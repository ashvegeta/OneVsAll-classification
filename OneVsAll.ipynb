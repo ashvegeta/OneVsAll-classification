{
 "cells": [
  {
   "cell_type": "code",
   "execution_count": 1,
   "metadata": {},
   "outputs": [],
   "source": [
    "import matplotlib.pyplot as plt\n",
    "import numpy as np\n",
    "import pandas as pd"
   ]
  },
  {
   "cell_type": "code",
   "execution_count": 2,
   "metadata": {},
   "outputs": [
    {
     "data": {
      "text/plain": [
       "['DESCR', 'data', 'images', 'target', 'target_names']"
      ]
     },
     "execution_count": 2,
     "metadata": {},
     "output_type": "execute_result"
    }
   ],
   "source": [
    "from sklearn.datasets import load_digits\n",
    "digits=load_digits()\n",
    "dir(digits)"
   ]
  },
  {
   "cell_type": "code",
   "execution_count": 3,
   "metadata": {},
   "outputs": [],
   "source": [
    "data=digits.data\n",
    "target=digits.target"
   ]
  },
  {
   "cell_type": "code",
   "execution_count": 176,
   "metadata": {},
   "outputs": [],
   "source": [
    "class OneVsAll:\n",
    "    def __init__(self,iters,alpha,num_labels):\n",
    "        self.iters=iters\n",
    "        self.alpha=alpha\n",
    "        self.num_labels=num_labels\n",
    "    \n",
    "    def sigmoid(self,z):\n",
    "        return 1/(1+np.exp(-z))\n",
    "    \n",
    "    def findmax(self,y_pred):\n",
    "        idx=[]\n",
    "        for i in y_pred:\n",
    "            idx.append(i.argmax())\n",
    "        return idx\n",
    "                \n",
    "    def updateTheta(self,hyp,x,y,theta):\n",
    "        err=np.subtract(hyp,y)\n",
    "        grad=1/(y.shape[0])*(np.dot(err,x))\n",
    "        theta=theta-(self.alpha*grad)\n",
    "        return theta\n",
    "        \n",
    "    def fit(self,x,y):\n",
    "        self.theta_arr=[]\n",
    "        for i in range(self.num_labels):\n",
    "            theta=np.random.rand(x.shape[1])\n",
    "            y_new=[1 if k==i else 0 for k in y]\n",
    "            for j in range(self.iters):\n",
    "                hyp=self.sigmoid(np.dot(x,theta))\n",
    "                theta=self.updateTheta(hyp,x,np.array(y_new),theta)\n",
    "            self.theta_arr.append(theta)\n",
    "            \n",
    "    def predict(self,x):\n",
    "        y_pred=self.sigmoid(np.dot(x,np.transpose(self.theta_arr)))\n",
    "        y_pred=self.findmax(y_pred)\n",
    "        return y_pred\n",
    "    \n",
    "    def accuracy(self,x,y):\n",
    "        return ((hyp==y_test).astype(int)).mean()"
   ]
  },
  {
   "cell_type": "code",
   "execution_count": 177,
   "metadata": {},
   "outputs": [
    {
     "name": "stdout",
     "output_type": "stream",
     "text": [
      "x_train: 1437  x_test: 360\n"
     ]
    }
   ],
   "source": [
    "from sklearn.model_selection import train_test_split\n",
    "\n",
    "x_train,x_test,y_train,y_test=train_test_split(data,target,test_size=0.20)\n",
    "\n",
    "\n",
    "model = OneVsAll(iters=110,alpha=0.02,num_labels=10)\n",
    "\n",
    "model.fit(x_train,y_train)\n",
    "\n",
    "print(\"x_train:\",len(x_train),\" x_test:\",len(x_test))"
   ]
  },
  {
   "cell_type": "code",
   "execution_count": 178,
   "metadata": {},
   "outputs": [
    {
     "name": "stdout",
     "output_type": "stream",
     "text": [
      "[8, 2, 3, 7, 6, 1, 8, 0, 4, 2, 8, 9, 5, 0, 0, 5, 5, 6, 5, 6, 1, 8, 1, 4, 2, 0, 7, 8, 4, 1, 5, 6, 0, 5, 0, 5, 3, 1, 2, 2, 7, 2, 8, 8, 6, 9, 1, 1, 5, 2, 9, 8, 5, 5, 7, 3, 7, 5, 8, 4, 9, 0, 7, 8, 6, 4, 7, 8, 0, 8, 5, 4, 6, 0, 5, 8, 5, 1, 4, 7, 6, 1, 8, 0, 4, 1, 7, 9, 3, 9, 8, 3, 6, 5, 9, 6, 6, 1, 9, 2, 0, 3, 2, 8, 4, 5, 9, 2, 6, 9, 1, 9, 0, 4, 2, 8, 6, 7, 5, 9, 9, 6, 7, 7, 6, 6, 6, 5, 0, 4, 2, 2, 0, 9, 5, 6, 1, 3, 5, 6, 8, 3, 6, 7, 5, 8, 1, 7, 3, 7, 6, 8, 8, 8, 1, 1, 4, 4, 0, 5, 9, 4, 5, 9, 4, 9, 3, 9, 3, 6, 3, 2, 8, 4, 3, 1, 2, 5, 8, 9, 4, 2, 9, 3, 6, 7, 8, 1, 5, 4, 1, 8, 1, 9, 3, 0, 9, 6, 6, 8, 7, 8, 5, 2, 1, 5, 7, 4, 8, 4, 7, 9, 7, 7, 8, 9, 1, 5, 9, 2, 6, 0, 8, 3, 2, 3, 8, 1, 9, 8, 4, 3, 7, 0, 8, 8, 5, 4, 8, 4, 4, 9, 0, 0, 4, 9, 9, 1, 0, 5, 7, 3, 1, 5, 8, 5, 9, 6, 9, 1, 1, 4, 4, 7, 5, 7, 0, 5, 0, 6, 4, 8, 7, 4, 7, 1, 2, 6, 8, 5, 5, 9, 3, 6, 3, 0, 5, 3, 6, 6, 0, 2, 1, 1, 2, 2, 4, 8, 7, 0, 7, 0, 7, 2, 6, 9, 2, 8, 0, 1, 9, 2, 4, 5, 4, 8, 1, 1, 0, 0, 7, 3, 2, 5, 1, 8, 5, 3, 4, 6, 8, 6, 2, 4, 1, 6, 6, 3, 8, 2, 6, 8, 1, 4, 3, 4, 6, 5, 8, 7, 4, 4, 8, 3, 2, 3, 6, 0, 6, 7]\n"
     ]
    }
   ],
   "source": [
    "hyp=model.predict(x_test)\n",
    "print(hyp)"
   ]
  },
  {
   "cell_type": "code",
   "execution_count": 179,
   "metadata": {},
   "outputs": [
    {
     "data": {
      "text/plain": [
       "array([8, 2, 3, 7, 6, 1, 7, 0, 4, 2, 8, 9, 7, 0, 0, 5, 5, 6, 5, 2, 1, 8,\n",
       "       1, 4, 2, 0, 7, 5, 4, 1, 8, 6, 0, 5, 2, 5, 3, 6, 2, 2, 7, 2, 8, 8,\n",
       "       6, 9, 1, 1, 5, 2, 9, 9, 5, 0, 7, 3, 7, 5, 8, 4, 5, 0, 7, 8, 6, 4,\n",
       "       7, 6, 0, 2, 5, 4, 6, 0, 5, 8, 5, 1, 4, 7, 6, 1, 9, 4, 4, 1, 7, 8,\n",
       "       9, 9, 8, 3, 6, 7, 9, 6, 6, 1, 9, 2, 0, 3, 2, 9, 4, 5, 9, 2, 6, 5,\n",
       "       1, 9, 0, 4, 2, 8, 6, 7, 5, 5, 9, 6, 3, 7, 6, 6, 6, 3, 0, 4, 2, 2,\n",
       "       0, 9, 5, 6, 8, 3, 5, 6, 8, 3, 6, 7, 5, 8, 1, 7, 3, 7, 6, 8, 8, 8,\n",
       "       1, 1, 4, 4, 0, 5, 9, 4, 5, 9, 4, 9, 3, 9, 3, 6, 3, 2, 8, 4, 3, 1,\n",
       "       2, 5, 9, 9, 4, 2, 9, 3, 6, 7, 8, 1, 5, 4, 1, 8, 1, 9, 3, 0, 5, 6,\n",
       "       6, 9, 7, 8, 5, 2, 1, 5, 7, 4, 8, 4, 7, 9, 7, 7, 8, 9, 3, 5, 9, 2,\n",
       "       6, 0, 8, 3, 2, 3, 8, 1, 9, 6, 4, 3, 7, 4, 9, 1, 5, 4, 8, 4, 4, 9,\n",
       "       0, 0, 4, 9, 9, 1, 0, 5, 7, 3, 1, 5, 8, 5, 9, 6, 9, 1, 1, 4, 4, 7,\n",
       "       5, 7, 0, 5, 0, 6, 4, 2, 7, 4, 3, 1, 2, 6, 2, 5, 5, 7, 3, 6, 1, 0,\n",
       "       5, 3, 6, 5, 0, 2, 1, 1, 2, 2, 4, 8, 7, 0, 7, 0, 7, 2, 6, 9, 2, 8,\n",
       "       0, 1, 9, 2, 4, 5, 4, 8, 1, 8, 0, 0, 7, 3, 2, 5, 1, 8, 5, 1, 4, 6,\n",
       "       8, 6, 2, 4, 1, 6, 6, 3, 8, 2, 6, 8, 8, 4, 3, 4, 6, 5, 7, 7, 4, 4,\n",
       "       8, 3, 2, 3, 6, 0, 6, 7])"
      ]
     },
     "execution_count": 179,
     "metadata": {},
     "output_type": "execute_result"
    }
   ],
   "source": [
    "y_test"
   ]
  },
  {
   "cell_type": "code",
   "execution_count": 180,
   "metadata": {},
   "outputs": [
    {
     "data": {
      "text/plain": [
       "0.8861111111111111"
      ]
     },
     "execution_count": 180,
     "metadata": {},
     "output_type": "execute_result"
    }
   ],
   "source": [
    "model.accuracy(x_test,y_test)"
   ]
  },
  {
   "cell_type": "code",
   "execution_count": null,
   "metadata": {},
   "outputs": [],
   "source": []
  }
 ],
 "metadata": {
  "kernelspec": {
   "display_name": "Python 3",
   "language": "python",
   "name": "python3"
  },
  "language_info": {
   "codemirror_mode": {
    "name": "ipython",
    "version": 3
   },
   "file_extension": ".py",
   "mimetype": "text/x-python",
   "name": "python",
   "nbconvert_exporter": "python",
   "pygments_lexer": "ipython3",
   "version": "3.7.1"
  }
 },
 "nbformat": 4,
 "nbformat_minor": 2
}
