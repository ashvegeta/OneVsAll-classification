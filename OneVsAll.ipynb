{
 "cells": [
  {
   "cell_type": "code",
   "execution_count": 13,
   "metadata": {},
   "outputs": [],
   "source": [
    "import matplotlib.pyplot as plt\n",
    "import numpy as np\n",
    "import pandas as pd"
   ]
  },
  {
   "cell_type": "code",
   "execution_count": 14,
   "metadata": {},
   "outputs": [
    {
     "data": {
      "text/plain": [
       "['DESCR', 'data', 'images', 'target', 'target_names']"
      ]
     },
     "execution_count": 14,
     "metadata": {},
     "output_type": "execute_result"
    }
   ],
   "source": [
    "from sklearn.datasets import load_digits\n",
    "digits=load_digits()\n",
    "dir(digits)"
   ]
  },
  {
   "cell_type": "code",
   "execution_count": 15,
   "metadata": {},
   "outputs": [],
   "source": [
    "data=digits.data\n",
    "target=digits.target"
   ]
  },
  {
   "cell_type": "code",
   "execution_count": 16,
   "metadata": {},
   "outputs": [],
   "source": [
    "class OneVsAll:\n",
    "    def __init__(self,iters,alpha,num_labels):\n",
    "        self.iters=iters\n",
    "        self.alpha=alpha\n",
    "        self.num_labels=num_labels\n",
    "    \n",
    "    def sigmoid(self,z):\n",
    "        return 1/(1+np.exp(-z))\n",
    "    \n",
    "    def findmax(self,y_pred):\n",
    "        idx=[]\n",
    "        for i in y_pred:\n",
    "            idx.append(i.argmax())\n",
    "        return idx\n",
    "                \n",
    "    def updateTheta(self,hyp,x,y,theta):\n",
    "        err=np.subtract(hyp,y)\n",
    "        grad=1/(y.shape[0])*(np.dot(err,x))\n",
    "        theta=theta-(self.alpha*grad)\n",
    "        return theta\n",
    "        \n",
    "    def fit(self,x,y):\n",
    "        self.theta_arr=[]\n",
    "        for i in range(self.num_labels):\n",
    "            theta=np.random.rand(x.shape[1])\n",
    "            y_new=[1 if k==i else 0 for k in y]\n",
    "            for j in range(self.iters):\n",
    "                hyp=self.sigmoid(np.dot(x,theta))\n",
    "                theta=self.updateTheta(hyp,x,np.array(y_new),theta)\n",
    "            self.theta_arr.append(theta)\n",
    "            \n",
    "    def predict(self,x):\n",
    "        y_pred=self.sigmoid(np.dot(x,np.transpose(self.theta_arr)))\n",
    "        y_pred=self.findmax(y_pred)\n",
    "        return y_pred\n",
    "    \n",
    "    def accuracy(self,x,y):\n",
    "        return (((self.predict(x)==y).astype(int)).mean())*100"
   ]
  },
  {
   "cell_type": "code",
   "execution_count": 17,
   "metadata": {},
   "outputs": [
    {
     "name": "stdout",
     "output_type": "stream",
     "text": [
      "x_train: 1437  x_test: 360\n"
     ]
    }
   ],
   "source": [
    "from sklearn.model_selection import train_test_split\n",
    "\n",
    "x_train,x_test,y_train,y_test=train_test_split(data,target,test_size=0.20)\n",
    "\n",
    "\n",
    "model = OneVsAll(iters=110,alpha=0.02,num_labels=10)\n",
    "\n",
    "model.fit(x_train,y_train)\n",
    "\n",
    "print(\"x_train:\",len(x_train),\" x_test:\",len(x_test))"
   ]
  },
  {
   "cell_type": "code",
   "execution_count": 18,
   "metadata": {},
   "outputs": [
    {
     "name": "stdout",
     "output_type": "stream",
     "text": [
      "[3, 9, 5, 2, 5, 4, 1, 2, 4, 5, 7, 1, 5, 4, 2, 0, 2, 3, 0, 7, 1, 6, 4, 4, 0, 2, 0, 3, 4, 9, 8, 1, 4, 9, 8, 8, 7, 5, 1, 9, 4, 2, 3, 8, 8, 3, 9, 8, 3, 7, 9, 8, 9, 0, 0, 5, 5, 1, 9, 6, 0, 8, 9, 2, 7, 3, 9, 4, 2, 5, 1, 4, 4, 5, 2, 1, 0, 5, 8, 6, 4, 8, 6, 0, 7, 8, 5, 0, 5, 0, 4, 8, 5, 1, 2, 3, 7, 4, 4, 4, 5, 0, 3, 3, 2, 1, 3, 7, 9, 5, 7, 7, 7, 2, 3, 3, 2, 9, 0, 3, 0, 0, 7, 5, 9, 1, 8, 9, 4, 3, 2, 5, 1, 5, 9, 0, 3, 6, 7, 0, 8, 4, 8, 8, 8, 6, 7, 0, 1, 7, 2, 9, 3, 1, 9, 4, 3, 7, 8, 2, 1, 8, 2, 0, 1, 3, 5, 8, 5, 6, 1, 0, 4, 7, 7, 5, 6, 7, 1, 5, 2, 7, 8, 6, 5, 2, 0, 0, 2, 3, 7, 0, 3, 7, 3, 4, 1, 4, 7, 3, 2, 0, 6, 0, 4, 8, 3, 6, 0, 6, 0, 5, 9, 0, 7, 5, 8, 4, 1, 0, 9, 8, 3, 9, 3, 5, 1, 4, 6, 3, 2, 6, 8, 1, 6, 9, 1, 8, 5, 8, 7, 0, 7, 5, 5, 9, 7, 0, 5, 6, 3, 7, 9, 5, 3, 2, 5, 2, 2, 6, 5, 1, 2, 3, 4, 5, 5, 1, 0, 5, 0, 1, 1, 4, 7, 7, 7, 8, 8, 9, 4, 6, 7, 3, 1, 3, 9, 1, 5, 8, 0, 9, 6, 8, 6, 7, 1, 0, 1, 4, 2, 0, 6, 1, 6, 2, 5, 7, 1, 6, 0, 3, 5, 3, 7, 0, 9, 2, 5, 8, 6, 0, 2, 7, 0, 9, 4, 6, 1, 0, 2, 0, 2, 2, 8, 7, 3, 7, 6, 3, 0, 2, 8, 8, 7, 4, 9, 3, 2, 2, 0, 6, 6, 7, 0, 1, 0, 7, 5, 0]\n"
     ]
    }
   ],
   "source": [
    "hyp=model.predict(x_test)\n",
    "print(hyp)"
   ]
  },
  {
   "cell_type": "code",
   "execution_count": 19,
   "metadata": {},
   "outputs": [
    {
     "data": {
      "text/plain": [
       "array([3, 1, 5, 2, 5, 4, 1, 2, 4, 5, 4, 1, 5, 4, 3, 0, 2, 3, 0, 7, 1, 6,\n",
       "       4, 4, 0, 2, 0, 3, 4, 9, 8, 1, 4, 9, 8, 8, 7, 5, 1, 9, 4, 2, 2, 8,\n",
       "       8, 3, 9, 1, 3, 7, 9, 8, 9, 0, 0, 5, 5, 1, 9, 1, 0, 5, 5, 2, 7, 3,\n",
       "       9, 4, 3, 5, 1, 4, 4, 5, 2, 1, 0, 5, 8, 6, 4, 8, 6, 0, 7, 8, 5, 0,\n",
       "       5, 0, 4, 8, 5, 1, 2, 3, 7, 4, 4, 4, 5, 4, 3, 3, 2, 6, 3, 7, 9, 5,\n",
       "       7, 7, 7, 2, 3, 3, 2, 9, 0, 3, 0, 0, 7, 5, 9, 1, 8, 9, 4, 3, 7, 9,\n",
       "       1, 5, 9, 0, 3, 6, 7, 0, 9, 4, 8, 8, 8, 6, 7, 0, 1, 4, 2, 9, 3, 8,\n",
       "       9, 4, 3, 7, 8, 2, 1, 8, 2, 0, 1, 3, 5, 8, 5, 6, 2, 0, 0, 7, 7, 5,\n",
       "       6, 7, 1, 5, 2, 7, 9, 6, 5, 2, 0, 0, 2, 3, 7, 0, 3, 7, 9, 4, 1, 4,\n",
       "       7, 3, 2, 0, 6, 0, 4, 8, 3, 6, 0, 6, 0, 5, 9, 0, 7, 5, 9, 4, 1, 0,\n",
       "       9, 8, 9, 9, 3, 5, 1, 4, 6, 3, 2, 6, 8, 1, 6, 9, 1, 1, 5, 8, 7, 0,\n",
       "       8, 5, 5, 9, 7, 0, 5, 6, 3, 7, 9, 5, 3, 2, 5, 2, 2, 6, 9, 1, 2, 8,\n",
       "       4, 5, 5, 1, 0, 5, 0, 1, 1, 4, 7, 7, 7, 4, 8, 9, 4, 6, 7, 3, 1, 3,\n",
       "       9, 9, 5, 8, 0, 9, 6, 8, 6, 7, 1, 0, 1, 4, 2, 0, 6, 2, 6, 2, 5, 7,\n",
       "       1, 6, 0, 3, 5, 3, 7, 0, 9, 2, 5, 9, 6, 0, 2, 7, 0, 9, 4, 6, 1, 0,\n",
       "       2, 0, 2, 2, 8, 7, 3, 7, 6, 3, 0, 2, 8, 3, 7, 4, 9, 3, 2, 2, 0, 6,\n",
       "       6, 3, 0, 1, 0, 7, 5, 0])"
      ]
     },
     "execution_count": 19,
     "metadata": {},
     "output_type": "execute_result"
    }
   ],
   "source": [
    "y_test"
   ]
  },
  {
   "cell_type": "code",
   "execution_count": 25,
   "metadata": {},
   "outputs": [
    {
     "name": "stdout",
     "output_type": "stream",
     "text": [
      "accuracy: 91.111 %\n"
     ]
    }
   ],
   "source": [
    "print(\"accuracy: %0.3f\"%model.accuracy(x_test,y_test),\"%\")"
   ]
  },
  {
   "cell_type": "code",
   "execution_count": null,
   "metadata": {},
   "outputs": [],
   "source": []
  }
 ],
 "metadata": {
  "kernelspec": {
   "display_name": "Python 3",
   "language": "python",
   "name": "python3"
  },
  "language_info": {
   "codemirror_mode": {
    "name": "ipython",
    "version": 3
   },
   "file_extension": ".py",
   "mimetype": "text/x-python",
   "name": "python",
   "nbconvert_exporter": "python",
   "pygments_lexer": "ipython3",
   "version": "3.7.1"
  }
 },
 "nbformat": 4,
 "nbformat_minor": 2
}
